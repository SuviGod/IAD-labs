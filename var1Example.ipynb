{
 "cells": [
  {
   "cell_type": "code",
   "execution_count": 1,
   "metadata": {},
   "outputs": [],
   "source": [
    "import copy\n",
    "\n",
    "import numpy as np\n",
    "import matplotlib.pyplot as plt\n",
    "from scipy.cluster.hierarchy import dendrogram\n"
   ]
  },
  {
   "cell_type": "code",
   "execution_count": 2,
   "metadata": {},
   "outputs": [],
   "source": [
    "def how_deep(clusters: list):\n",
    "    if clusters and isinstance(clusters, list):\n",
    "        return max(how_deep(cluster) for cluster in clusters) + 1\n",
    "    return 0\n"
   ]
  },
  {
   "cell_type": "code",
   "execution_count": 3,
   "metadata": {},
   "outputs": [],
   "source": [
    "def del_dups(data: list):\n",
    "    new_list = []\n",
    "\n",
    "    for l in data:\n",
    "        if l not in new_list:\n",
    "            new_list.append(l)\n",
    "    return new_list"
   ]
  },
  {
   "cell_type": "code",
   "execution_count": 4,
   "metadata": {},
   "outputs": [],
   "source": [
    "def plot_dendrogram(dists: list):\n",
    "    dendrogram(dists) \n",
    "    plt.show()"
   ]
  },
  {
   "cell_type": "code",
   "execution_count": 15,
   "metadata": {},
   "outputs": [],
   "source": [
    "def clustering(data: list):\n",
    "    c = copy.deepcopy(data)\n",
    "    c = del_dups(c)\n",
    "    print(c)\n",
    "    new_index = len(c)  # index for new cluster \n",
    "    final_dists = np.zeros((len(c) - 1, 4))  # final dist matrix \n",
    "    accessible_indexes = list(range(len(c)))  #  indexes to update dists\n",
    "    dist_dict_before = {}  # dist matrix of previous iteration\n",
    "    '''\n",
    "    calculating first distances\n",
    "    '''\n",
    "    for i in range(len(c)):\n",
    "        for j in range(len(c)):\n",
    "            dist_dict_before[(i, j)] = np.linalg.norm(np.array(c[i]) - np.array(c[j]))  # fill dist matrix on 1 iter\n",
    "    print(dist_dict_before)\n",
    "    print(\"-----------------------\")\n",
    "    '''\n",
    "    starting clustering\n",
    "    '''\n",
    "    iteration = 0\n",
    "    while len(dist_dict_before) > 2:  # 1 clusters left\n",
    "        min_val = np.inf\n",
    "        indexes = (0, 0)\n",
    "        '''\n",
    "        get min value from dist matrix and its indexes in matrix\n",
    "        '''\n",
    "        for key, val in dist_dict_before.items():\n",
    "            if val < min_val and val != 0:\n",
    "                min_val = val\n",
    "                indexes = key\n",
    "        print(f'min val: {min_val}')\n",
    "        print(f'indexes: {indexes}')\n",
    "        new_cluster = [c[indexes[0]], c[indexes[1]]]\n",
    "        c.append(new_cluster)\n",
    "        print(f'new cluster: {new_cluster}')\n",
    "        '''\n",
    "        update final_dists\n",
    "        '''\n",
    "        final_dists[iteration][0] = indexes[0]\n",
    "        final_dists[iteration][1] = indexes[1]\n",
    "        final_dists[iteration][2] = min_val\n",
    "        final_dists[iteration][3] = how_deep(new_cluster)\n",
    "\n",
    "        dist_dict = copy.deepcopy(dist_dict_before)  # creating new dist matrix\n",
    "        '''\n",
    "        delete rows and columns of clusters that were merged\n",
    "        '''\n",
    "        for key in dist_dict_before.keys():\n",
    "            if indexes[0] in key or indexes[1] in key:\n",
    "                del dist_dict[key]\n",
    "        accessible_indexes.remove(indexes[0])\n",
    "        accessible_indexes.remove(indexes[1])\n",
    "        '''\n",
    "        merging clusters and updating dist matrix\n",
    "        '''\n",
    "        for i in accessible_indexes:\n",
    "            dist_dict[(i, new_index)] = ((dist_dict_before[(i, indexes[0])] + dist_dict_before[(i, indexes[1])]) / 2) \\\n",
    "                                        - \\\n",
    "                                        (abs(dist_dict_before[(i, indexes[0])] - dist_dict_before[(i, indexes[1])]) / 2)\n",
    "            dist_dict[(new_index, i)] = dist_dict[(i, new_index)]\n",
    "        dist_dict[(new_index, new_index)] = 0\n",
    "        accessible_indexes.append(new_index)\n",
    "        '''\n",
    "        updating dists and counters\n",
    "        '''\n",
    "        dist_dict_before = copy.deepcopy(dist_dict)\n",
    "        new_index += 1\n",
    "        iteration += 1\n",
    "        print(accessible_indexes)\n",
    "        print(dist_dict_before)\n",
    "        print(\"-----------------------\")\n",
    "\n",
    "    c = c[-1]  # final clusters\n",
    "    '''\n",
    "    printing final results\n",
    "    '''\n",
    "    print(f'C: {c}')\n",
    "    print(f'Distance matrix: {final_dists}')\n",
    "    \n",
    "    plot_dendrogram(final_dists)  # plot dendrogram\n",
    "    return c, final_dists"
   ]
  },
  {
   "cell_type": "code",
   "execution_count": 16,
   "metadata": {},
   "outputs": [
    {
     "name": "stdout",
     "output_type": "stream",
     "text": [
      "[[1, 1], [2, 3], [3, 3], [2, 0], [4, 0], [5, 12]]\n",
      "{(0, 0): 0.0, (0, 1): 2.23606797749979, (0, 2): 2.8284271247461903, (0, 3): 1.4142135623730951, (0, 4): 3.1622776601683795, (0, 5): 11.704699910719626, (1, 0): 2.23606797749979, (1, 1): 0.0, (1, 2): 1.0, (1, 3): 3.0, (1, 4): 3.605551275463989, (1, 5): 9.486832980505138, (2, 0): 2.8284271247461903, (2, 1): 1.0, (2, 2): 0.0, (2, 3): 3.1622776601683795, (2, 4): 3.1622776601683795, (2, 5): 9.219544457292887, (3, 0): 1.4142135623730951, (3, 1): 3.0, (3, 2): 3.1622776601683795, (3, 3): 0.0, (3, 4): 2.0, (3, 5): 12.36931687685298, (4, 0): 3.1622776601683795, (4, 1): 3.605551275463989, (4, 2): 3.1622776601683795, (4, 3): 2.0, (4, 4): 0.0, (4, 5): 12.041594578792296, (5, 0): 11.704699910719626, (5, 1): 9.486832980505138, (5, 2): 9.219544457292887, (5, 3): 12.36931687685298, (5, 4): 12.041594578792296, (5, 5): 0.0}\n",
      "-----------------------\n",
      "min val: 1.0\n",
      "indexes: (1, 2)\n",
      "new cluster: [[2, 3], [3, 3]]\n",
      "[0, 3, 4, 5, 6]\n",
      "{(0, 0): 0.0, (0, 3): 1.4142135623730951, (0, 4): 3.1622776601683795, (0, 5): 11.704699910719626, (3, 0): 1.4142135623730951, (3, 3): 0.0, (3, 4): 2.0, (3, 5): 12.36931687685298, (4, 0): 3.1622776601683795, (4, 3): 2.0, (4, 4): 0.0, (4, 5): 12.041594578792296, (5, 0): 11.704699910719626, (5, 3): 12.36931687685298, (5, 4): 12.041594578792296, (5, 5): 0.0, (0, 6): 2.23606797749979, (6, 0): 2.23606797749979, (3, 6): 3.0, (6, 3): 3.0, (4, 6): 3.1622776601683795, (6, 4): 3.1622776601683795, (5, 6): 9.219544457292887, (6, 5): 9.219544457292887, (6, 6): 0}\n",
      "-----------------------\n",
      "min val: 1.4142135623730951\n",
      "indexes: (0, 3)\n",
      "new cluster: [[1, 1], [2, 0]]\n",
      "[4, 5, 6, 7]\n",
      "{(4, 4): 0.0, (4, 5): 12.041594578792296, (5, 4): 12.041594578792296, (5, 5): 0.0, (4, 6): 3.1622776601683795, (6, 4): 3.1622776601683795, (5, 6): 9.219544457292887, (6, 5): 9.219544457292887, (6, 6): 0, (4, 7): 2.0, (7, 4): 2.0, (5, 7): 11.704699910719626, (7, 5): 11.704699910719626, (6, 7): 2.23606797749979, (7, 6): 2.23606797749979, (7, 7): 0}\n",
      "-----------------------\n",
      "min val: 2.0\n",
      "indexes: (4, 7)\n",
      "new cluster: [[4, 0], [[1, 1], [2, 0]]]\n",
      "[5, 6, 8]\n",
      "{(5, 5): 0.0, (5, 6): 9.219544457292887, (6, 5): 9.219544457292887, (6, 6): 0, (5, 8): 11.704699910719626, (8, 5): 11.704699910719626, (6, 8): 2.23606797749979, (8, 6): 2.23606797749979, (8, 8): 0}\n",
      "-----------------------\n",
      "min val: 2.23606797749979\n",
      "indexes: (6, 8)\n",
      "new cluster: [[[2, 3], [3, 3]], [[4, 0], [[1, 1], [2, 0]]]]\n",
      "[5, 9]\n",
      "{(5, 5): 0.0, (5, 9): 9.219544457292887, (9, 5): 9.219544457292887, (9, 9): 0}\n",
      "-----------------------\n",
      "min val: 9.219544457292887\n",
      "indexes: (5, 9)\n",
      "new cluster: [[5, 12], [[[2, 3], [3, 3]], [[4, 0], [[1, 1], [2, 0]]]]]\n",
      "[10]\n",
      "{(10, 10): 0}\n",
      "-----------------------\n",
      "C: [[5, 12], [[[2, 3], [3, 3]], [[4, 0], [[1, 1], [2, 0]]]]]\n",
      "Distance matrix: [[1.         2.         1.         2.        ]\n",
      " [0.         3.         1.41421356 2.        ]\n",
      " [4.         7.         2.         3.        ]\n",
      " [6.         8.         2.23606798 4.        ]\n",
      " [5.         9.         9.21954446 5.        ]]\n"
     ]
    },
    {
     "data": {
      "image/png": "[encoded data removed]",
      "text/plain": [
       "<Figure size 432x288 with 1 Axes>"
      ]
     },
     "metadata": {
      "needs_background": "light"
     },
     "output_type": "display_data"
    }
   ],
   "source": [
    "if __name__ == '__main__':\n",
    "    t = [[1, 1],\n",
    "         [2, 3],\n",
    "         [3, 3],\n",
    "         [2, 0],\n",
    "         [4, 0],\n",
    "         [5, 12]]\n",
    "    clustering(t)\n"
   ]
  },
  {
   "cell_type": "code",
   "execution_count": null,
   "metadata": {},
   "outputs": [],
   "source": []
  }
 ],
 "metadata": {
  "kernelspec": {
   "display_name": "Python 3 (ipykernel)",
   "language": "python",
   "name": "python3"
  },
  "language_info": {
   "codemirror_mode": {
    "name": "ipython",
    "version": 3
   },
   "file_extension": ".py",
   "mimetype": "text/x-python",
   "name": "python",
   "nbconvert_exporter": "python",
   "pygments_lexer": "ipython3",
   "version": "3.10.7"
  },
  "vscode": {
   "interpreter": {
    "hash": "88279d2366fe020547cde40dd65aa0e3aa662a6ec1f3ca12d88834876c85e1a6"
   }
  }
 },
 "nbformat": 4,
 "nbformat_minor": 2
}

{
 "cells": [
  {
   "cell_type": "markdown",
   "id": "4f2278fe",
   "metadata": {},
   "source": [
    "![](pics\\task1.jpg)"
   ]
  },
  {
   "cell_type": "markdown",
   "id": "fb870b61",
   "metadata": {},
   "source": [
    "![](pics\\task1_2.jpg)"
   ]
  },
  {
   "cell_type": "code",
   "execution_count": 3,
   "id": "aefade1d",
   "metadata": {},
   "outputs": [],
   "source": [
    "import numpy as np\n",
    "from numpy.random import default_rng"
   ]
  },
  {
   "cell_type": "code",
   "execution_count": 4,
   "id": "d48dd321",
   "metadata": {},
   "outputs": [],
   "source": [
    "dr = default_rng(0)"
   ]
  },
  {
   "cell_type": "code",
   "execution_count": 5,
   "id": "4f51b323",
   "metadata": {},
   "outputs": [],
   "source": [
    "def rand(a, b, m, n):\n",
    "    return (b-a) * dr.random((m, n)) + a\n",
    "\n",
    "def basicDistance(sample):\n",
    "    sum = 0\n",
    "    for k in sample:\n",
    "        sum += k**2\n",
    "    return sum ** (1/2)\n",
    "\n",
    "class BasicClaster:\n",
    "    def __init__(self, sample):\n",
    "        self.sample = sample\n",
    "        self.d = basicDistance(sample)\n",
    "    def __str__(self):\n",
    "        return str(self.sample) + \", \" + str(self.d)\n",
    "        \n",
    "class Claster:\n",
    "    def __init__(self, clast1, clast2):\n",
    "        self.members = [clast1, clast2]\n",
    "        self.d = (clast1.d + clast2.d) / 2\n",
    "    def __str__(self):\n",
    "        return \"[\" + str(self.members[0]) + \", \" + str(self.members[1]) + \", \" + str(self.d) + \"]\"\n",
    "    \n",
    "\n",
    "def distance(clast1, clast2):\n",
    "    return (clast1.d + clast2.d) / 2\n",
    "\n",
    "def primeClastering(samples):\n",
    "    C = []\n",
    "    for sample in samples:\n",
    "        C.append(BasicClaster(sample))\n",
    "    return C"
   ]
  },
  {
   "cell_type": "code",
   "execution_count": 6,
   "id": "6442f78d",
   "metadata": {},
   "outputs": [],
   "source": [
    "def clasterizing(samples):\n",
    "    C = primeClastering(samples)\n",
    "    while len(C) > 1:\n",
    "        minD = distance(C[0], C[1])\n",
    "        index1 = 0\n",
    "        index2 = 1\n",
    "        for c1 in C:\n",
    "            for c2 in C[C.index(c1) + 1:]:\n",
    "                d = distance(c1, c2)\n",
    "                if minD > d: \n",
    "                    minD = d\n",
    "                    index1 = C.index(c1)\n",
    "                    index2 = C.index(c2)\n",
    "        C.append(Claster(C[index1], C[index2]))\n",
    "        C.pop(index2)\n",
    "        C.pop(index1)\n",
    "    return C  \n",
    "\n",
    "    "
   ]
  },
  {
   "cell_type": "code",
   "execution_count": 7,
   "id": "83e6f3ca",
   "metadata": {},
   "outputs": [
    {
     "name": "stdout",
     "output_type": "stream",
     "text": [
      "[[6.0956935  3.15829371]\n",
      " [1.32778819 1.13222108]\n",
      " [7.50616191 8.30204462]\n",
      " [5.85308621 6.83597249]\n",
      " [5.34899993 8.48057939]\n",
      " [7.52682843 1.021908  ]\n",
      " [7.85923421 1.2686846 ]\n",
      " [6.83724357 2.40524496]\n",
      " [7.90543138 5.33168976]\n",
      " [3.39769512 4.38149777]]\n"
     ]
    }
   ],
   "source": [
    "arr = rand(1, 9, 10, 2)\n",
    "print(arr)"
   ]
  },
  {
   "cell_type": "code",
   "execution_count": 8,
   "id": "8b6f23f2",
   "metadata": {},
   "outputs": [
    {
     "name": "stdout",
     "output_type": "stream",
     "text": [
      "[[7.50616191 8.30204462], 11.192247831251642, [[5.34899993 8.48057939], 10.026566065448044, [[7.90543138 5.33168976], 9.535342731283414, [[5.85308621 6.83597249], 8.999396534847161, [[7.85923421 1.2686846 ], 7.96097500502047, [[7.52682843 1.021908  ], 7.59588324177285, [[6.83724357 2.40524496], 7.247972336866755, [[6.0956935  3.15829371], 6.865296671510632, [[1.32778819 1.13222108], 1.7449773823835266, [3.39769512 4.38149777], 5.544533782251791, 3.644755582317659], 5.255026126914146], 6.251499231890451], 6.923691236831651], 7.44233312092606], 8.220864827886611], 8.878103779585013], 9.452334922516528], 10.322291376884085]\n"
     ]
    }
   ],
   "source": [
    "C = clasterizing(arr)\n",
    "print(C[0])"
   ]
  },
  {
   "cell_type": "code",
   "execution_count": null,
   "id": "efb67a3b",
   "metadata": {},
   "outputs": [],
   "source": []
  }
 ],
 "metadata": {
  "kernelspec": {
   "display_name": "Python 3 (ipykernel)",
   "language": "python",
   "name": "python3"
  },
  "language_info": {
   "codemirror_mode": {
    "name": "ipython",
    "version": 3
   },
   "file_extension": ".py",
   "mimetype": "text/x-python",
   "name": "python",
   "nbconvert_exporter": "python",
   "pygments_lexer": "ipython3",
   "version": "3.10.7"
  }
 },
 "nbformat": 4,
 "nbformat_minor": 5
}

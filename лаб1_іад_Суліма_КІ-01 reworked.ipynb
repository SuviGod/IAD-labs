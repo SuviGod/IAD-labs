{
 "cells": [
  {
   "cell_type": "markdown",
   "id": "4f2278fe",
   "metadata": {},
   "source": [
    "![](pics\\task1.jpg)"
   ]
  },
  {
   "cell_type": "markdown",
   "id": "fb870b61",
   "metadata": {},
   "source": [
    "![](pics\\task1_2.jpg)"
   ]
  },
  {
   "cell_type": "code",
   "execution_count": 1,
   "id": "aefade1d",
   "metadata": {},
   "outputs": [],
   "source": [
    "import numpy as np\n",
    "from numpy.random import default_rng"
   ]
  },
  {
   "cell_type": "code",
   "execution_count": 2,
   "id": "d48dd321",
   "metadata": {},
   "outputs": [],
   "source": [
    "dr = default_rng(0)"
   ]
  },
  {
   "cell_type": "code",
   "execution_count": 3,
   "id": "4f51b323",
   "metadata": {},
   "outputs": [],
   "source": [
    "def rand(a, b, m, n):\n",
    "    return (b-a) * dr.random((m, n)) + a\n",
    "\n",
    "def basicDistance(sample1, sample2):\n",
    "    dist = np.linalg.norm(sample1 - sample2)\n",
    "\n",
    "def distance(clast1, clast2):\n",
    "    return (clast1.d + clast2.d) / 2\n",
    "\n"
   ]
  },
  {
   "cell_type": "code",
   "execution_count": 8,
   "id": "b4791fe1",
   "metadata": {},
   "outputs": [],
   "source": [
    "def basicDistanceMatrix(samples: np.array):\n",
    "    prev_distances = np.zeros((samples.size, samples.size))\n",
    "    for i in range(samples.size):\n",
    "        for k in range(i + 1):\n",
    "            prev_distances[i][k] = basicDistance(samples[i], samples[k])\n",
    "            prev_distances[k][i] = prev_distances[i][k]"
   ]
  },
  {
   "cell_type": "code",
   "execution_count": 9,
   "id": "6442f78d",
   "metadata": {},
   "outputs": [],
   "source": [
    "def clasterizing(samples: np.array):\n",
    "    c = []\n",
    "    for sample in samples:\n",
    "        c.append(sample)\n",
    "    prev_distances = basicDistanceMatrix(samples)\n",
    "    print(prev_distances)\n",
    "    return c \n",
    "\n",
    "    "
   ]
  },
  {
   "cell_type": "code",
   "execution_count": 11,
   "id": "83e6f3ca",
   "metadata": {},
   "outputs": [
    {
     "name": "stdout",
     "output_type": "stream",
     "text": [
      "[[1.22655737 1.99426621]\n",
      " [6.36499532 6.17751609]\n",
      " [5.92308089 4.06942043]\n",
      " [8.97767949 8.84668271]\n",
      " [6.48433588 6.20367421]\n",
      " [6.50757384 4.11137139]\n",
      " [2.08077204 6.77190672]\n",
      " [5.20283458 3.481935  ]\n",
      " [4.88668287 8.11590267]\n",
      " [8.47234813 3.86236157]]\n"
     ]
    }
   ],
   "source": [
    "arr = rand(1, 9, 10, 2)\n",
    "print(arr)"
   ]
  },
  {
   "cell_type": "code",
   "execution_count": 12,
   "id": "8b6f23f2",
   "metadata": {},
   "outputs": [
    {
     "ename": "IndexError",
     "evalue": "index 10 is out of bounds for axis 0 with size 10",
     "output_type": "error",
     "traceback": [
      "\u001b[1;31m---------------------------------------------------------------------------\u001b[0m",
      "\u001b[1;31mIndexError\u001b[0m                                Traceback (most recent call last)",
      "Cell \u001b[1;32mIn [12], line 1\u001b[0m\n\u001b[1;32m----> 1\u001b[0m C \u001b[38;5;241m=\u001b[39m clasterizing(arr)\n",
      "Cell \u001b[1;32mIn [9], line 5\u001b[0m, in \u001b[0;36mclasterizing\u001b[1;34m(samples)\u001b[0m\n\u001b[0;32m      3\u001b[0m \u001b[38;5;28;01mfor\u001b[39;00m sample \u001b[38;5;129;01min\u001b[39;00m samples:\n\u001b[0;32m      4\u001b[0m     c\u001b[38;5;241m.\u001b[39mappend(sample)\n\u001b[1;32m----> 5\u001b[0m prev_distances \u001b[38;5;241m=\u001b[39m \u001b[43mbasicDistanceMatrix\u001b[49m\u001b[43m(\u001b[49m\u001b[43msamples\u001b[49m\u001b[43m)\u001b[49m\n\u001b[0;32m      6\u001b[0m \u001b[38;5;28mprint\u001b[39m(prev_distances)\n\u001b[0;32m      7\u001b[0m \u001b[38;5;28;01mreturn\u001b[39;00m c\n",
      "Cell \u001b[1;32mIn [8], line 5\u001b[0m, in \u001b[0;36mbasicDistanceMatrix\u001b[1;34m(samples)\u001b[0m\n\u001b[0;32m      3\u001b[0m \u001b[38;5;28;01mfor\u001b[39;00m i \u001b[38;5;129;01min\u001b[39;00m \u001b[38;5;28mrange\u001b[39m(samples\u001b[38;5;241m.\u001b[39msize):\n\u001b[0;32m      4\u001b[0m     \u001b[38;5;28;01mfor\u001b[39;00m k \u001b[38;5;129;01min\u001b[39;00m \u001b[38;5;28mrange\u001b[39m(i \u001b[38;5;241m+\u001b[39m \u001b[38;5;241m1\u001b[39m):\n\u001b[1;32m----> 5\u001b[0m         prev_distances[i][k] \u001b[38;5;241m=\u001b[39m basicDistance(\u001b[43msamples\u001b[49m\u001b[43m[\u001b[49m\u001b[43mi\u001b[49m\u001b[43m]\u001b[49m, samples[k])\n\u001b[0;32m      6\u001b[0m         prev_distances[k][i] \u001b[38;5;241m=\u001b[39m prev_distances[i][k]\n",
      "\u001b[1;31mIndexError\u001b[0m: index 10 is out of bounds for axis 0 with size 10"
     ]
    }
   ],
   "source": [
    "C = clasterizing(arr)\n"
   ]
  },
  {
   "cell_type": "code",
   "execution_count": null,
   "id": "efb67a3b",
   "metadata": {},
   "outputs": [],
   "source": []
  }
 ],
 "metadata": {
  "kernelspec": {
   "display_name": "Python 3 (ipykernel)",
   "language": "python",
   "name": "python3"
  },
  "language_info": {
   "codemirror_mode": {
    "name": "ipython",
    "version": 3
   },
   "file_extension": ".py",
   "mimetype": "text/x-python",
   "name": "python",
   "nbconvert_exporter": "python",
   "pygments_lexer": "ipython3",
   "version": "3.10.7"
  }
 },
 "nbformat": 4,
 "nbformat_minor": 5
}

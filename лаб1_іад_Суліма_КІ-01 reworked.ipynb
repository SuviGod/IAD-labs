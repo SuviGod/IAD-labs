{
 "cells": [
  {
   "cell_type": "markdown",
   "id": "4f2278fe",
   "metadata": {},
   "source": [
    "![](pics\\task1.jpg)"
   ]
  },
  {
   "cell_type": "markdown",
   "id": "fb870b61",
   "metadata": {},
   "source": [
    "![](pics\\task1_2.jpg)"
   ]
  },
  {
   "cell_type": "code",
   "execution_count": 91,
   "id": "aefade1d",
   "metadata": {},
   "outputs": [],
   "source": [
    "import numpy as np\n",
    "from numpy.random import default_rng\n",
    "import pandas as pd\n",
    "from scipy.cluster.hierarchy import dendrogram\n",
    "import matplotlib.pyplot as plt"
   ]
  },
  {
   "cell_type": "code",
   "execution_count": 15,
   "id": "d48dd321",
   "metadata": {},
   "outputs": [],
   "source": [
    "dr = default_rng(0)"
   ]
  },
  {
   "cell_type": "code",
   "execution_count": 16,
   "id": "4f51b323",
   "metadata": {},
   "outputs": [],
   "source": [
    "def rand(a, b, m, n):\n",
    "    return (b-a) * dr.random((m, n)) + a\n",
    "\n",
    "def basicDistance(sample1, sample2):\n",
    "    return np.linalg.norm(sample1 - sample2)\n",
    "\n",
    "def distance(clast1, clast2):\n",
    "    return (clast1.d + clast2.d) / 2\n",
    "\n"
   ]
  },
  {
   "cell_type": "code",
   "execution_count": 17,
   "id": "b4791fe1",
   "metadata": {},
   "outputs": [],
   "source": [
    "def basicDistanceMatrix(samples: np.array):\n",
    "    prev_distances = np.zeros((len(samples), len(samples)))\n",
    "    min_value = np.inf\n",
    "    min_dist_indexes = (-1, -1)\n",
    "    for i in range(len(samples)):\n",
    "        for k in range(i + 1):\n",
    "            prev_distances[i][k] = basicDistance(samples[i], samples[k])\n",
    "            prev_distances[k][i] = prev_distances[i][k]\n",
    "            if prev_distances[i][k] < min_value and prev_distances[i][k] != 0:\n",
    "                min_value = prev_distances[i][k]\n",
    "                min_dist_indexes = (i, k)\n",
    "    return prev_distances\n",
    "\n",
    "def basicDistanceDict(samples: np.array):\n",
    "    prev_distances = {}\n",
    "    for i in range(len(samples)):\n",
    "        for k in range(i + 1):\n",
    "            prev_distances.update({(i, k): basicDistance(samples[i], samples[k])})\n",
    "    return prev_distances\n"
   ]
  },
  {
   "cell_type": "code",
   "execution_count": 93,
   "id": "6442f78d",
   "metadata": {},
   "outputs": [],
   "source": [
    "def clasterizing(samples: np.array):\n",
    "    c = []\n",
    "    samples_amount = len(samples)\n",
    "    avaliable_indexes = list(range(samples_amount))\n",
    "    linkage_matrix = np.zeros((samples_amount - 1, 4))\n",
    "    iter_link_matrix = 0\n",
    "    for sample in samples:\n",
    "        c.append(sample)\n",
    "    distances_dict = basicDistanceDict(samples)\n",
    "    min_value = np.inf\n",
    "    min_dist_indexes = (-1, -1)\n",
    "    while len(c) > 1:\n",
    "        #choosing min distance\n",
    "        min_value = np.inf\n",
    "        for key, val in distances_dict.items():\n",
    "            if min_value > val and val != 0:\n",
    "                min_value = val\n",
    "                min_dist_indexes = key\n",
    "        print(\"-------------\")\n",
    "        print(\"Min value: \" + str(min_value) + \"\\n\")\n",
    "        print(\"Indexes of clusters: \" + str(min_dist_indexes))\n",
    "        print(\"General cluster:\")\n",
    "        print(c)\n",
    "        print()\n",
    "        print(\"Matrix of distances: \" + str(distances_dict))\n",
    "        #merging two clasters and insterting to the list\n",
    "        c.append([c[avaliable_indexes.index(min_dist_indexes[0])], c[avaliable_indexes.index(min_dist_indexes[1])]])\n",
    "        c.pop(avaliable_indexes.index(min_dist_indexes[0]))\n",
    "        c.pop(avaliable_indexes.index(min_dist_indexes[1]))\n",
    "        avaliable_indexes.remove(min_dist_indexes[0])\n",
    "        avaliable_indexes.remove(min_dist_indexes[1])\n",
    "        \n",
    "        #updating linkage matrix\n",
    "        linkage_matrix[iter_link_matrix][0] = min_dist_indexes[0]\n",
    "        linkage_matrix[iter_link_matrix][1] = min_dist_indexes[1]\n",
    "        linkage_matrix[iter_link_matrix][2] = min_value\n",
    "        \n",
    "        first_clast_amount = 0\n",
    "        if min_dist_indexes[0] < samples_amount:\n",
    "            first_clast_amount = 1\n",
    "        else:\n",
    "            first_clast_amount = linkage_matrix[min_dist_indexes[0] - samples_amount][3]\n",
    "        second_clast_amount = 0\n",
    "        if min_dist_indexes[1] < samples_amount:\n",
    "            second_clast_amount = 1\n",
    "        else:\n",
    "            second_clast_amount = linkage_matrix[min_dist_indexes[1] - samples_amount][3]\n",
    "        linkage_matrix[iter_link_matrix][3] = first_clast_amount + second_clast_amount\n",
    "        print(linkage_matrix)\n",
    "        \n",
    "        #inserting distances for new claster\n",
    "        new_claster_index = samples_amount + iter_link_matrix\n",
    "        print(avaliable_indexes)\n",
    "        print(min_dist_indexes[0])\n",
    "        #avaliable_indexes.remove(min_dist_indexes[0])\n",
    "        #avaliable_indexes.remove(min_dist_indexes[1])\n",
    "        for index in avaliable_indexes:\n",
    "            new_value = distances_dict[(max(index, min_dist_indexes[0]), min(index, min_dist_indexes[0]))]\n",
    "            new_value += distances_dict[(max(index, min_dist_indexes[1]), min(index, min_dist_indexes[1]))]\n",
    "            new_value /= 2\n",
    "            distances_dict.update({(new_claster_index, index): new_value})\n",
    "            \n",
    "        #removing old distances\n",
    "        d = distances_dict.copy()\n",
    "        for key in distances_dict.keys():\n",
    "            if new_claster_index in key:\n",
    "                break\n",
    "            if min_dist_indexes[0] in key or min_dist_indexes[1] in key:\n",
    "                del d[key]\n",
    "        avaliable_indexes.append(new_claster_index)\n",
    "        distances_dict = d\n",
    "        iter_link_matrix += 1\n",
    "    return c, linkage_matrix\n",
    "\n",
    "    "
   ]
  },
  {
   "cell_type": "code",
   "execution_count": 75,
   "id": "83e6f3ca",
   "metadata": {},
   "outputs": [
    {
     "name": "stdout",
     "output_type": "stream",
     "text": [
      "[[8.32259168 2.01922407]\n",
      " [1.58850324 1.56261003]\n",
      " [7.95083435 6.07255983]\n",
      " [4.97257355 2.30834733]\n",
      " [6.3898675  3.5441391 ]]\n"
     ]
    }
   ],
   "source": [
    "arr = rand(1, 9, 5, 2)\n",
    "print(arr)"
   ]
  },
  {
   "cell_type": "code",
   "execution_count": 94,
   "id": "8b6f23f2",
   "metadata": {},
   "outputs": [
    {
     "name": "stdout",
     "output_type": "stream",
     "text": [
      "-------------\n",
      "Min value: 1.8803998115953706\n",
      "\n",
      "Indexes of clusters: (4, 3)\n",
      "General cluster:\n",
      "[array([8.32259168, 2.01922407]), array([1.58850324, 1.56261003]), array([7.95083435, 6.07255983]), array([4.97257355, 2.30834733]), array([6.3898675, 3.5441391])]\n",
      "\n",
      "Matrix of distances: {(0, 0): 0.0, (1, 0): 6.749551353918974, (1, 1): 0.0, (2, 0): 4.070348180705983, (2, 1): 7.798647602956427, (2, 2): 0.0, (3, 0): 3.36247137274707, (3, 1): 3.4652641991479225, (3, 2): 4.799930541509357, (3, 3): 0.0, (4, 0): 2.4618668936903867, (4, 1): 5.194184846654494, (4, 2): 2.971452324052156, (4, 3): 1.8803998115953706, (4, 4): 0.0}\n",
      "[[4.         3.         1.88039981 2.        ]\n",
      " [0.         0.         0.         0.        ]\n",
      " [0.         0.         0.         0.        ]\n",
      " [0.         0.         0.         0.        ]]\n",
      "[0, 1, 2]\n",
      "4\n",
      "-------------\n",
      "Min value: 2.912169133218728\n",
      "\n",
      "Indexes of clusters: (5, 0)\n",
      "General cluster:\n",
      "[array([8.32259168, 2.01922407]), array([1.58850324, 1.56261003]), array([7.95083435, 6.07255983]), [array([6.3898675, 3.5441391]), array([4.97257355, 2.30834733])]]\n",
      "\n",
      "Matrix of distances: {(0, 0): 0.0, (1, 0): 6.749551353918974, (1, 1): 0.0, (2, 0): 4.070348180705983, (2, 1): 7.798647602956427, (2, 2): 0.0, (5, 0): 2.912169133218728, (5, 1): 4.329724522901208, (5, 2): 3.8856914327807566}\n",
      "[[4.         3.         1.88039981 2.        ]\n",
      " [5.         0.         2.91216913 3.        ]\n",
      " [0.         0.         0.         0.        ]\n",
      " [0.         0.         0.         0.        ]]\n",
      "[1, 2]\n",
      "5\n",
      "-------------\n",
      "Min value: 3.9780198067433696\n",
      "\n",
      "Indexes of clusters: (6, 2)\n",
      "General cluster:\n",
      "[array([1.58850324, 1.56261003]), array([7.95083435, 6.07255983]), [[array([6.3898675, 3.5441391]), array([4.97257355, 2.30834733])], array([8.32259168, 2.01922407])]]\n",
      "\n",
      "Matrix of distances: {(1, 1): 0.0, (2, 1): 7.798647602956427, (2, 2): 0.0, (6, 1): 5.539637938410092, (6, 2): 3.9780198067433696}\n",
      "[[4.         3.         1.88039981 2.        ]\n",
      " [5.         0.         2.91216913 3.        ]\n",
      " [6.         2.         3.97801981 4.        ]\n",
      " [0.         0.         0.         0.        ]]\n",
      "[1]\n",
      "6\n",
      "-------------\n",
      "Min value: 6.669142770683259\n",
      "\n",
      "Indexes of clusters: (7, 1)\n",
      "General cluster:\n",
      "[array([1.58850324, 1.56261003]), [[[array([6.3898675, 3.5441391]), array([4.97257355, 2.30834733])], array([8.32259168, 2.01922407])], array([7.95083435, 6.07255983])]]\n",
      "\n",
      "Matrix of distances: {(1, 1): 0.0, (7, 1): 6.669142770683259}\n",
      "[[4.         3.         1.88039981 2.        ]\n",
      " [5.         0.         2.91216913 3.        ]\n",
      " [6.         2.         3.97801981 4.        ]\n",
      " [7.         1.         6.66914277 5.        ]]\n",
      "[]\n",
      "7\n"
     ]
    },
    {
     "data": {
      "image/png": "[encoded data removed]",
      "text/plain": [
       "<Figure size 640x480 with 1 Axes>"
      ]
     },
     "metadata": {},
     "output_type": "display_data"
    },
    {
     "name": "stdout",
     "output_type": "stream",
     "text": [
      "[[[[[array([6.3898675, 3.5441391]), array([4.97257355, 2.30834733])], array([8.32259168, 2.01922407])], array([7.95083435, 6.07255983])], array([1.58850324, 1.56261003])]]\n"
     ]
    }
   ],
   "source": [
    "C, link_matrix = clasterizing(arr)\n",
    "dendrogram(link_matrix)\n",
    "plt.show()\n",
    "print(C)\n"
   ]
  },
  {
   "cell_type": "code",
   "execution_count": 3,
   "id": "efb67a3b",
   "metadata": {},
   "outputs": [],
   "source": [
    "np.inf?"
   ]
  },
  {
   "cell_type": "code",
   "execution_count": 6,
   "id": "d4d44a60",
   "metadata": {},
   "outputs": [],
   "source": [
    "dendrogram?"
   ]
  },
  {
   "cell_type": "code",
   "execution_count": null,
   "id": "9eccf9f9",
   "metadata": {},
   "outputs": [],
   "source": []
  }
 ],
 "metadata": {
  "kernelspec": {
   "display_name": "Python 3 (ipykernel)",
   "language": "python",
   "name": "python3"
  },
  "language_info": {
   "codemirror_mode": {
    "name": "ipython",
    "version": 3
   },
   "file_extension": ".py",
   "mimetype": "text/x-python",
   "name": "python",
   "nbconvert_exporter": "python",
   "pygments_lexer": "ipython3",
   "version": "3.10.7"
  }
 },
 "nbformat": 4,
 "nbformat_minor": 5
}
